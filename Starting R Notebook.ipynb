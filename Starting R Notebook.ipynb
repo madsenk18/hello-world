{
 "cells": [
  {
   "cell_type": "markdown",
   "metadata": {},
   "source": [
    "## Before running\n",
    "In terminal, I ran the following install/update commands (some may be unnecessary):\n",
    "pip install ipystata  \n",
    "pip install msgpack  \n",
    "pip install epipy  \n",
    "pip install datascience  \n",
    "conda install numpy  \n",
    "conda install -c r r-essentials  \n",
    "conda update r-base\n",
    "conda install -c r ipython-notebook r-irkernel  \n",
    "conda install matplotlib  "
   ]
  },
  {
   "cell_type": "code",
   "execution_count": null,
   "metadata": {},
   "outputs": [],
   "source": [
    "import numpy as np\n",
    "import matplotlib.pyplot as plots\n",
    "plots.style.use('fivethirtyeight')\n",
    "%matplotlib inline\n",
    "import pandas as pd"
   ]
  },
  {
   "cell_type": "code",
   "execution_count": null,
   "metadata": {},
   "outputs": [],
   "source": [
    "%load_ext rpy2.ipython"
   ]
  },
  {
   "cell_type": "code",
   "execution_count": null,
   "metadata": {},
   "outputs": [],
   "source": [
    "import warnings\n",
    "warnings.filterwarnings('ignore')"
   ]
  },
  {
   "cell_type": "code",
   "execution_count": null,
   "metadata": {},
   "outputs": [],
   "source": [
    "%R require(ggplot2); require(tidyr) # Not sure what this does"
   ]
  },
  {
   "cell_type": "code",
   "execution_count": null,
   "metadata": {},
   "outputs": [],
   "source": [
    "%%R\n",
    "# Format: '%%R' added at the beginning of the cell will allow the entire cell to run R code\n",
    "# '%%R' must be the first line of the cell or else you will get a syntax error\n",
    "\n",
    "getwd() # Shows the working directory (wd)\n",
    "# setwd(\"C:/myfolder/data\") Changes the wd"
   ]
  },
  {
   "cell_type": "code",
   "execution_count": null,
   "metadata": {},
   "outputs": [],
   "source": [
    "%%R\n",
    "# Reading in a csv file\n",
    "mydata <- read.csv(\"/Users/madsenk/Box Sync/Studies/Soda tax/Consumption/Data/Combined years/Bay Area Weather.csv\",\n",
    "header=TRUE)"
   ]
  }
 ],
 "metadata": {
  "kernelspec": {
   "display_name": "Python 3",
   "language": "python",
   "name": "python3"
  },
  "language_info": {
   "codemirror_mode": {
    "name": "ipython",
    "version": 3
   },
   "file_extension": ".py",
   "mimetype": "text/x-python",
   "name": "python",
   "nbconvert_exporter": "python",
   "pygments_lexer": "ipython3",
   "version": "3.5.5"
  }
 },
 "nbformat": 4,
 "nbformat_minor": 2
}
